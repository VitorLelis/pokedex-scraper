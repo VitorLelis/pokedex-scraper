{
 "cells": [
  {
   "cell_type": "markdown",
   "metadata": {},
   "source": [
    "# Pokedex Scraper\n"
   ]
  },
  {
   "cell_type": "code",
   "execution_count": 8,
   "metadata": {},
   "outputs": [],
   "source": [
    "import requests\n",
    "from bs4 import BeautifulSoup\n",
    "import re\n",
    "import pandas as pd\n",
    "import matplotlib.pyplot as plt"
   ]
  },
  {
   "cell_type": "code",
   "execution_count": 9,
   "metadata": {},
   "outputs": [],
   "source": [
    "def not_digit(element :str) -> bool:\n",
    "    return not element.isdigit()\n",
    "\n",
    "def name_and_type(info:list, pokemon_types: list) -> tuple:\n",
    "    raw = list(filter(not_digit, info))\n",
    "\n",
    "    if len(raw) == 4:\n",
    "        name = raw[0]+'('+raw[1]+')'\n",
    "        type = raw[2]+'/'+raw[3]\n",
    "    elif len(raw) == 3:\n",
    "        if raw[1] in pokemon_types:\n",
    "            name = raw[0]\n",
    "            type = raw[1]+'/'+raw[2]\n",
    "        else:\n",
    "            name = raw[0]+'('+raw[1]+')'\n",
    "            type = raw[2]\n",
    "    else:\n",
    "        name = raw[0]\n",
    "        type = raw[1]\n",
    "    \n",
    "    return(name,type)"
   ]
  },
  {
   "cell_type": "code",
   "execution_count": 10,
   "metadata": {},
   "outputs": [],
   "source": [
    "pokemon_types = [\"Normal\", \"Fire\", \"Water\", \"Electric\", \"Grass\", \"Ice\",\n",
    "                 \"Fighting\", \"Poison\", \"Ground\", \"Flying\", \"Psychic\",\n",
    "                 \"Bug\", \"Rock\", \"Ghost\", \"Dragon\", \"Dark\", \"Steel\", \"Fairy\"]\n",
    "\n",
    "url = \"https://pokemondb.net/pokedex/all\"\n",
    "\n",
    "page = requests.get(url)\n",
    "soup = BeautifulSoup(page.text, \"html.parser\")\n",
    "\n",
    "pokemons = soup.find_all(\"tr\")\n",
    "\n",
    "regex = re.compile(r'>(\\w[\\w\\s\\u2640\\u2642\\-\\'\\:]+)<')\n",
    "\n",
    "NUMBERS = []\n",
    "NAMES = []\n",
    "TYPES = []"
   ]
  },
  {
   "cell_type": "code",
   "execution_count": 11,
   "metadata": {},
   "outputs": [
    {
     "name": "stdout",
     "output_type": "stream",
     "text": [
      "         #                     Name             Type\n",
      "0        1                Bulbasaur     Grass/Poison\n",
      "1        2                  Ivysaur     Grass/Poison\n",
      "2        3                 Venusaur     Grass/Poison\n",
      "3        3  Venusaur(Mega Venusaur)     Grass/Poison\n",
      "4        4               Charmander             Fire\n",
      "...    ...                      ...              ...\n",
      "1204  1020             Gouging Fire      Fire/Dragon\n",
      "1205  1021              Raging Bolt  Electric/Dragon\n",
      "1206  1022             Iron Boulder     Rock/Psychic\n",
      "1207  1023               Iron Crown    Steel/Psychic\n",
      "1208  1024   Terapagos(Normal Form)           Normal\n",
      "\n",
      "[1209 rows x 3 columns]\n"
     ]
    }
   ],
   "source": [
    "for pkmn in pokemons[1:]:\n",
    "    info = regex.findall(str(pkmn))\n",
    "    number = int(info[0])\n",
    "    name, type = name_and_type(info, pokemon_types)\n",
    "\n",
    "    NUMBERS.append(number)\n",
    "    NAMES.append(name)\n",
    "    TYPES.append(type)\n",
    "\n",
    "dex = pd.DataFrame(data={'#':NUMBERS, 'Name':NAMES, 'Type': TYPES})\n",
    "\n",
    "print(dex)"
   ]
  }
 ],
 "metadata": {
  "kernelspec": {
   "display_name": "Python 3",
   "language": "python",
   "name": "python3"
  },
  "language_info": {
   "codemirror_mode": {
    "name": "ipython",
    "version": 3
   },
   "file_extension": ".py",
   "mimetype": "text/x-python",
   "name": "python",
   "nbconvert_exporter": "python",
   "pygments_lexer": "ipython3",
   "version": "3.10.12"
  }
 },
 "nbformat": 4,
 "nbformat_minor": 2
}
