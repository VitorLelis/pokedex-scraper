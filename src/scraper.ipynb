{
 "cells": [
  {
   "cell_type": "markdown",
   "metadata": {},
   "source": [
    "# Pokedex Scraper\n"
   ]
  },
  {
   "cell_type": "markdown",
   "metadata": {},
   "source": [
    "***"
   ]
  },
  {
   "cell_type": "markdown",
   "metadata": {},
   "source": [
    "### Import the correct libraries"
   ]
  },
  {
   "cell_type": "code",
   "execution_count": 1,
   "metadata": {},
   "outputs": [],
   "source": [
    "import requests\n",
    "from bs4 import BeautifulSoup\n",
    "import re\n",
    "import pandas as pd\n",
    "import matplotlib.pyplot as plt"
   ]
  },
  {
   "cell_type": "markdown",
   "metadata": {},
   "source": [
    "### Fetch the HTML of the webpage through Scraping"
   ]
  },
  {
   "cell_type": "code",
   "execution_count": 2,
   "metadata": {},
   "outputs": [],
   "source": [
    "url = \"https://pokemondb.net/pokedex/all\"\n",
    "\n",
    "page = requests.get(url)\n",
    "soup = BeautifulSoup(page.text, \"html.parser\")\n",
    "#print(soup)"
   ]
  },
  {
   "cell_type": "markdown",
   "metadata": {},
   "source": [
    "### Find the tags with Pokemon information"
   ]
  },
  {
   "cell_type": "code",
   "execution_count": 3,
   "metadata": {},
   "outputs": [],
   "source": [
    "pokemons = soup.find_all(\"tr\")\n",
    "#print(pokemons)"
   ]
  },
  {
   "cell_type": "markdown",
   "metadata": {},
   "source": [
    "### Some auxiliary functions to manipulate data\n",
    "\n",
    "+ ```not_digit``` to find the chars in an String\n",
    "+ ```name_and_type``` to manipulate the String"
   ]
  },
  {
   "cell_type": "code",
   "execution_count": 4,
   "metadata": {},
   "outputs": [],
   "source": [
    "def not_digit(element :str) -> bool:\n",
    "    return not element.isdigit()\n",
    "\n",
    "def name_and_type(info:list, pokemon_types: list) -> tuple:\n",
    "    raw = list(filter(not_digit, info))\n",
    "\n",
    "    if len(raw) == 4:\n",
    "        name = raw[0]+'('+raw[1]+')'\n",
    "        type = raw[2]+'/'+raw[3]\n",
    "    elif len(raw) == 3:\n",
    "        if raw[1] in pokemon_types:\n",
    "            name = raw[0]\n",
    "            type = raw[1]+'/'+raw[2]\n",
    "        else:\n",
    "            name = raw[0]+'('+raw[1]+')'\n",
    "            type = raw[2]\n",
    "    else:\n",
    "        name = raw[0]\n",
    "        type = raw[1]\n",
    "    \n",
    "    return(name,type)"
   ]
  },
  {
   "cell_type": "markdown",
   "metadata": {},
   "source": [
    "### Some variables to help the construction of the Dataframe\n",
    "\n",
    "+ ```pokemon_types``` an list with all pokemon types\n",
    "+ ```regex``` an compiled regex expression to extract the information at the HTML\n",
    "+ ```NUMBERS,NAMES,TYPES``` variables to create the Dataframe Columns"
   ]
  },
  {
   "cell_type": "code",
   "execution_count": 5,
   "metadata": {},
   "outputs": [],
   "source": [
    "pokemon_types = [\"Normal\", \"Fire\", \"Water\", \"Electric\", \"Grass\", \"Ice\",\n",
    "                 \"Fighting\", \"Poison\", \"Ground\", \"Flying\", \"Psychic\",\n",
    "                 \"Bug\", \"Rock\", \"Ghost\", \"Dragon\", \"Dark\", \"Steel\", \"Fairy\"]"
   ]
  },
  {
   "cell_type": "code",
   "execution_count": 6,
   "metadata": {},
   "outputs": [],
   "source": [
    "regex = re.compile(r'>(\\w[\\w\\s\\u2640\\u2642\\-\\'\\:]+)<')"
   ]
  },
  {
   "cell_type": "code",
   "execution_count": 7,
   "metadata": {},
   "outputs": [],
   "source": [
    "NUMBERS = []\n",
    "NAMES = []\n",
    "TYPES = []"
   ]
  },
  {
   "cell_type": "markdown",
   "metadata": {},
   "source": [
    "### Dataframe creation"
   ]
  },
  {
   "cell_type": "code",
   "execution_count": 8,
   "metadata": {},
   "outputs": [
    {
     "name": "stdout",
     "output_type": "stream",
     "text": [
      "         #                     Name             Type\n",
      "0        1                Bulbasaur     Grass/Poison\n",
      "1        2                  Ivysaur     Grass/Poison\n",
      "2        3                 Venusaur     Grass/Poison\n",
      "3        3  Venusaur(Mega Venusaur)     Grass/Poison\n",
      "4        4               Charmander             Fire\n",
      "...    ...                      ...              ...\n",
      "1204  1020             Gouging Fire      Fire/Dragon\n",
      "1205  1021              Raging Bolt  Electric/Dragon\n",
      "1206  1022             Iron Boulder     Rock/Psychic\n",
      "1207  1023               Iron Crown    Steel/Psychic\n",
      "1208  1024   Terapagos(Normal Form)           Normal\n",
      "\n",
      "[1209 rows x 3 columns]\n"
     ]
    }
   ],
   "source": [
    "for pkmn in pokemons[1:]:\n",
    "    info = regex.findall(str(pkmn))\n",
    "    number = int(info[0])\n",
    "    name, type = name_and_type(info, pokemon_types)\n",
    "\n",
    "    NUMBERS.append(number)\n",
    "    NAMES.append(name)\n",
    "    TYPES.append(type)\n",
    "\n",
    "dex = pd.DataFrame(data={'#':NUMBERS, 'Name':NAMES, 'Type': TYPES})\n",
    "\n",
    "print(dex)"
   ]
  },
  {
   "cell_type": "markdown",
   "metadata": {},
   "source": [
    "### Filtering by column value"
   ]
  },
  {
   "cell_type": "code",
   "execution_count": 9,
   "metadata": {},
   "outputs": [
    {
     "name": "stdout",
     "output_type": "stream",
     "text": [
      "       #                     Name              Type\n",
      "0      1                Bulbasaur      Grass/Poison\n",
      "1      2                  Ivysaur      Grass/Poison\n",
      "2      3                 Venusaur      Grass/Poison\n",
      "3      3  Venusaur(Mega Venusaur)      Grass/Poison\n",
      "4      4               Charmander              Fire\n",
      "..   ...                      ...               ...\n",
      "199  149                Dragonite     Dragon/Flying\n",
      "200  150                   Mewtwo           Psychic\n",
      "201  150    Mewtwo(Mega Mewtwo X)  Psychic/Fighting\n",
      "202  150    Mewtwo(Mega Mewtwo Y)           Psychic\n",
      "203  151                      Mew           Psychic\n",
      "\n",
      "[204 rows x 3 columns]\n"
     ]
    }
   ],
   "source": [
    "gen1 = dex[dex['#'] <= 151]\n",
    "print(gen1)"
   ]
  },
  {
   "cell_type": "markdown",
   "metadata": {},
   "source": [
    "### Using queries"
   ]
  },
  {
   "cell_type": "code",
   "execution_count": 10,
   "metadata": {},
   "outputs": [
    {
     "name": "stdout",
     "output_type": "stream",
     "text": [
      "       #                         Name              Type\n",
      "3      3      Venusaur(Mega Venusaur)      Grass/Poison\n",
      "7      6  Charizard(Mega Charizard X)       Fire/Dragon\n",
      "8      6  Charizard(Mega Charizard Y)       Fire/Flying\n",
      "12     9    Blastoise(Mega Blastoise)             Water\n",
      "19    15      Beedrill(Mega Beedrill)        Bug/Poison\n",
      "23    18        Pidgeot(Mega Pidgeot)     Normal/Flying\n",
      "86    65      Alakazam(Mega Alakazam)           Psychic\n",
      "108   80        Slowbro(Mega Slowbro)     Water/Psychic\n",
      "127   94          Gengar(Mega Gengar)      Ghost/Poison\n",
      "154  115  Kangaskhan(Mega Kangaskhan)            Normal\n",
      "168  127          Pinsir(Mega Pinsir)        Bug/Flying\n",
      "175  130      Gyarados(Mega Gyarados)        Water/Dark\n",
      "189  142  Aerodactyl(Mega Aerodactyl)       Rock/Flying\n",
      "201  150        Mewtwo(Mega Mewtwo X)  Psychic/Fighting\n",
      "202  150        Mewtwo(Mega Mewtwo Y)           Psychic\n",
      "235  181      Ampharos(Mega Ampharos)   Electric/Dragon\n",
      "265  208        Steelix(Mega Steelix)      Steel/Ground\n",
      "271  212          Scizor(Mega Scizor)         Bug/Steel\n",
      "274  214    Heracross(Mega Heracross)      Bug/Fighting\n",
      "292  229      Houndoom(Mega Houndoom)         Dark/Fire\n",
      "312  248    Tyranitar(Mega Tyranitar)         Rock/Dark\n",
      "319  254      Sceptile(Mega Sceptile)      Grass/Dragon\n",
      "323  257      Blaziken(Mega Blaziken)     Fire/Fighting\n",
      "327  260      Swampert(Mega Swampert)      Water/Ground\n",
      "352  282    Gardevoir(Mega Gardevoir)     Psychic/Fairy\n",
      "373  302        Sableye(Mega Sableye)        Dark/Ghost\n",
      "375  303          Mawile(Mega Mawile)       Steel/Fairy\n",
      "379  306          Aggron(Mega Aggron)             Steel\n",
      "382  308      Medicham(Mega Medicham)  Fighting/Psychic\n",
      "385  310    Manectric(Mega Manectric)          Electric\n",
      "395  319      Sharpedo(Mega Sharpedo)        Water/Dark\n",
      "400  323      Camerupt(Mega Camerupt)       Fire/Ground\n",
      "412  334        Altaria(Mega Altaria)      Dragon/Fairy\n",
      "436  354        Banette(Mega Banette)             Ghost\n",
      "442  359            Absol(Mega Absol)              Dark\n",
      "446  362          Glalie(Mega Glalie)               Ice\n",
      "458  373    Salamence(Mega Salamence)     Dragon/Flying\n",
      "462  376    Metagross(Mega Metagross)     Steel/Psychic\n",
      "467  380          Latias(Mega Latias)    Dragon/Psychic\n",
      "469  381          Latios(Mega Latios)    Dragon/Psychic\n",
      "475  384      Rayquaza(Mega Rayquaza)     Dragon/Flying\n",
      "527  428        Lopunny(Mega Lopunny)   Normal/Fighting\n",
      "545  445      Garchomp(Mega Garchomp)     Dragon/Ground\n",
      "549  448        Lucario(Mega Lucario)    Fighting/Steel\n",
      "562  460    Abomasnow(Mega Abomasnow)         Grass/Ice\n",
      "578  475        Gallade(Mega Gallade)  Psychic/Fighting\n",
      "645  531          Audino(Mega Audino)      Normal/Fairy\n",
      "867  719        Diancie(Mega Diancie)        Rock/Fairy\n"
     ]
    }
   ],
   "source": [
    "megas = dex.query(\"Name.str.contains('Mega ')\")\n",
    "print(megas)"
   ]
  },
  {
   "cell_type": "markdown",
   "metadata": {},
   "source": [
    "### Bar Plot with query results"
   ]
  },
  {
   "cell_type": "code",
   "execution_count": 11,
   "metadata": {},
   "outputs": [
    {
     "data": {
      "image/png": "[encoded data removed]",
      "text/plain": [
       "<Figure size 640x480 with 1 Axes>"
      ]
     },
     "metadata": {},
     "output_type": "display_data"
    }
   ],
   "source": [
    "type_count = []\n",
    "for tp in pokemon_types:\n",
    "    type_count.append(len(dex.query(\"Type.str.contains(@tp)\")))\n",
    "\n",
    "type_colors = ['#A8A77A','#EE8130','#6390F0','#F7D02C','#7AC74C','#96D9D6',\n",
    "               '#C22E28','#A33EA1','#E2BF65','#A98FF3','#F95587','#A6B91A',\n",
    "               '#B6A136','#735797','#6F35FC','#705746','#B7B7CE','#D685AD']\n",
    "\n",
    "fig, ax = plt.subplots()\n",
    "\n",
    "ax.bar(pokemon_types, type_count, color= type_colors)\n",
    "\n",
    "ax.set_title('Types Distribution')\n",
    "\n",
    "plt.xticks(rotation = 90)\n",
    "\n",
    "plt.show()"
   ]
  },
  {
   "cell_type": "markdown",
   "metadata": {},
   "source": [
    "### Pie Plot with query"
   ]
  },
  {
   "cell_type": "code",
   "execution_count": 12,
   "metadata": {},
   "outputs": [
    {
     "data": {
      "image/png": "[encoded data removed]",
      "text/plain": [
       "<Figure size 640x480 with 1 Axes>"
      ]
     },
     "metadata": {},
     "output_type": "display_data"
    }
   ],
   "source": [
    "hybrid = len(dex.query(\"Type.str.contains('/')\"))\n",
    "\n",
    "pure = len(dex) - hybrid\n",
    "\n",
    "fig, ax = plt.subplots()\n",
    "ax.pie([pure,hybrid], labels=['Pure', 'Hybrid'], autopct='%1.1f%%')\n",
    "\n",
    "ax.set_title('Hybrids Percentage')\n",
    "\n",
    "plt.show()"
   ]
  },
  {
   "cell_type": "markdown",
   "metadata": {},
   "source": [
    "### Creating a second Dataframe through queries and plot with the information"
   ]
  },
  {
   "cell_type": "code",
   "execution_count": 13,
   "metadata": {},
   "outputs": [
    {
     "name": "stdout",
     "output_type": "stream",
     "text": [
      "         #                       Name          Type\n",
      "9        7                   Squirtle         Water\n",
      "10       8                  Wartortle         Water\n",
      "11       9                  Blastoise         Water\n",
      "12       9  Blastoise(Mega Blastoise)         Water\n",
      "72      54                    Psyduck         Water\n",
      "...    ...                        ...           ...\n",
      "1158   978      Tatsugiri(Curly Form)  Dragon/Water\n",
      "1159   978     Tatsugiri(Droopy Form)  Dragon/Water\n",
      "1160   978   Tatsugiri(Stretchy Form)  Dragon/Water\n",
      "1174   991                Iron Bundle     Ice/Water\n",
      "1193  1009               Walking Wake  Water/Dragon\n",
      "\n",
      "[175 rows x 3 columns]\n"
     ]
    }
   ],
   "source": [
    "water_dex = dex.query(\"Type.str.contains('Water')\")\n",
    "\n",
    "print(water_dex)"
   ]
  },
  {
   "cell_type": "code",
   "execution_count": 14,
   "metadata": {},
   "outputs": [
    {
     "name": "stdout",
     "output_type": "stream",
     "text": [
      "81 out of 175\n"
     ]
    }
   ],
   "source": [
    "total = len(water_dex)  \n",
    "hybrids = len(water_dex.query(\"Type.str.contains('/')\"))\n",
    "\n",
    "pure_water = total - hybrids\n",
    "\n",
    "print(f\"{pure_water} out of {total}\")"
   ]
  },
  {
   "cell_type": "code",
   "execution_count": 15,
   "metadata": {},
   "outputs": [
    {
     "data": {
      "image/png": "[encoded data removed]",
      "text/plain": [
       "<Figure size 640x480 with 1 Axes>"
      ]
     },
     "metadata": {},
     "output_type": "display_data"
    }
   ],
   "source": [
    "new_types = pokemon_types\n",
    "new_types.remove('Water')\n",
    "\n",
    "water_count = []\n",
    "\n",
    "for nt in new_types:\n",
    "    water_count.append(len(water_dex.query(\"Type.str.contains(@nt)\")))\n",
    "\n",
    "count = len(water_dex) - len(water_dex.query(\"Type.str.contains('/')\"))\n",
    "\n",
    "fig, ax = plt.subplots()\n",
    "\n",
    "ax.bar(new_types, water_count, color='#6390F0')\n",
    "\n",
    "ax.set_title('Water Hybrids Distribution')\n",
    "\n",
    "plt.xticks(rotation = 90)\n",
    "\n",
    "plt.show()"
   ]
  }
 ],
 "metadata": {
  "kernelspec": {
   "display_name": "Python 3",
   "language": "python",
   "name": "python3"
  },
  "language_info": {
   "codemirror_mode": {
    "name": "ipython",
    "version": 3
   },
   "file_extension": ".py",
   "mimetype": "text/x-python",
   "name": "python",
   "nbconvert_exporter": "python",
   "pygments_lexer": "ipython3",
   "version": "3.10.12"
  }
 },
 "nbformat": 4,
 "nbformat_minor": 2
}
